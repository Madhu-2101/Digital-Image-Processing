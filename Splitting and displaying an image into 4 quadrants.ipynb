{
 "cells": [
  {
   "cell_type": "code",
   "execution_count": null,
   "id": "c9149d71",
   "metadata": {},
   "outputs": [],
   "source": [
    "import cv2\n",
    "img = cv2.imread('bunny.jpg')\n",
    "height, width = img.shape[:2]\n",
    "half_width = width//2\n",
    "half_height = height//2\n",
    "top_left = img[0:half_height, 0:half_width]\n",
    "top_right = img[0:half_height, half_width:width]\n",
    "bottom_left = img[half_height:height, 0:half_width]\n",
    "bottom_right = img[half_height:height, half_width:width]\n",
    "cv2.imshow('top left', top_left)\n",
    "cv2.imshow('top right', top_right)\n",
    "cv2.imshow('bottom left', bottom_left)\n",
    "cv2.imshow('bottom right', bottom_right)\n",
    "cv2.waitKey()\n",
    "cv2.destoryAllWindows()"
   ]
  }
 ],
 "metadata": {
  "kernelspec": {
   "display_name": "Python 3 (ipykernel)",
   "language": "python",
   "name": "python3"
  },
  "language_info": {
   "codemirror_mode": {
    "name": "ipython",
    "version": 3
   },
   "file_extension": ".py",
   "mimetype": "text/x-python",
   "name": "python",
   "nbconvert_exporter": "python",
   "pygments_lexer": "ipython3",
   "version": "3.9.7"
  }
 },
 "nbformat": 4,
 "nbformat_minor": 5
}
