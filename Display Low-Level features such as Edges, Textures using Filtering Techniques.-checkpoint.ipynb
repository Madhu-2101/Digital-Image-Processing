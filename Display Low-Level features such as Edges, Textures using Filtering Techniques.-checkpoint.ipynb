{
 "cells": [
  {
   "cell_type": "code",
   "execution_count": 1,
   "id": "954579e7",
   "metadata": {},
   "outputs": [],
   "source": [
    "import cv2\n",
    "import numpy as np\n",
    "\n",
    "\n",
    "img = cv2.imread('bunny.jpg')\n",
    "gray = cv2.cvtColor(img, cv2.COLOR_BGR2GRAY)\n",
    "\n",
    "kernel = np.ones((5,5),np.uint8)\n",
    "erosion = cv2.erode(gray, kernel, iterations=1)\n",
    "dilation = cv2.dilate(gray, kernel, iterations=1)\n",
    "\n",
    "edges_erosion = gray - erosion\n",
    "edges_dilation = dilation - gray\n",
    "\n",
    "cv2.imshow('Original', img)\n",
    "cv2.imshow('Eroded', erosion)\n",
    "cv2.imshow('Dilated', dilation)\n",
    "\n",
    "cv2.imshow('Edges (Erosion)', edges_erosion)\n",
    "cv2.imshow('Edges (Dilation)', edges_dilation)\n",
    "\n",
    "cv2.waitKey(0)\n",
    "cv2.destroyAllWindows() \n"
   ]
  },
  {
   "cell_type": "code",
   "execution_count": null,
   "id": "3bb37a4d",
   "metadata": {},
   "outputs": [],
   "source": []
  }
 ],
 "metadata": {
  "kernelspec": {
   "display_name": "Python 3 (ipykernel)",
   "language": "python",
   "name": "python3"
  },
  "language_info": {
   "codemirror_mode": {
    "name": "ipython",
    "version": 3
   },
   "file_extension": ".py",
   "mimetype": "text/x-python",
   "name": "python",
   "nbconvert_exporter": "python",
   "pygments_lexer": "ipython3",
   "version": "3.9.7"
  }
 },
 "nbformat": 4,
 "nbformat_minor": 5
}
